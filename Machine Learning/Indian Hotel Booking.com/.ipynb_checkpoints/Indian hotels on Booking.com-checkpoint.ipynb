{
 "cells": [
  {
   "cell_type": "code",
   "execution_count": 185,
   "metadata": {},
   "outputs": [
    {
     "name": "stdout",
     "output_type": "stream",
     "text": [
      "Requirement already satisfied: wordcloud in c:\\users\\mohammed yusuf khan\\appdata\\local\\programs\\python\\python35\\lib\\site-packages\n",
      "Requirement already satisfied: matplotlib in c:\\users\\mohammed yusuf khan\\appdata\\local\\programs\\python\\python35\\lib\\site-packages (from wordcloud)\n",
      "Requirement already satisfied: pillow in c:\\users\\mohammed yusuf khan\\appdata\\local\\programs\\python\\python35\\lib\\site-packages (from wordcloud)\n",
      "Requirement already satisfied: numpy>=1.6.1 in c:\\users\\mohammed yusuf khan\\appdata\\local\\programs\\python\\python35\\lib\\site-packages (from wordcloud)\n",
      "Requirement already satisfied: python-dateutil>=2.0 in c:\\users\\mohammed yusuf khan\\appdata\\local\\programs\\python\\python35\\lib\\site-packages (from matplotlib->wordcloud)\n",
      "Requirement already satisfied: six>=1.10 in c:\\users\\mohammed yusuf khan\\appdata\\local\\programs\\python\\python35\\lib\\site-packages (from matplotlib->wordcloud)\n",
      "Requirement already satisfied: pyparsing!=2.0.4,!=2.1.2,!=2.1.6,>=2.0.1 in c:\\users\\mohammed yusuf khan\\appdata\\local\\programs\\python\\python35\\lib\\site-packages (from matplotlib->wordcloud)\n",
      "Requirement already satisfied: pytz in c:\\users\\mohammed yusuf khan\\appdata\\local\\programs\\python\\python35\\lib\\site-packages (from matplotlib->wordcloud)\n",
      "Requirement already satisfied: cycler>=0.10 in c:\\users\\mohammed yusuf khan\\appdata\\local\\programs\\python\\python35\\lib\\site-packages (from matplotlib->wordcloud)\n",
      "Requirement already satisfied: olefile in c:\\users\\mohammed yusuf khan\\appdata\\local\\programs\\python\\python35\\lib\\site-packages (from pillow->wordcloud)\n"
     ]
    },
    {
     "ename": "ModuleNotFoundError",
     "evalue": "No module named 'wordcloud'",
     "output_type": "error",
     "traceback": [
      "\u001b[1;31m---------------------------------------------------------------------------\u001b[0m",
      "\u001b[1;31mModuleNotFoundError\u001b[0m                       Traceback (most recent call last)",
      "\u001b[1;32m<ipython-input-185-cd64f0681dca>\u001b[0m in \u001b[0;36m<module>\u001b[1;34m()\u001b[0m\n\u001b[0;32m      7\u001b[0m \u001b[1;32mfrom\u001b[0m \u001b[0mnltk\u001b[0m\u001b[1;33m.\u001b[0m\u001b[0mcorpus\u001b[0m \u001b[1;32mimport\u001b[0m \u001b[0mstopwords\u001b[0m\u001b[1;33m\u001b[0m\u001b[0m\n\u001b[0;32m      8\u001b[0m \u001b[0mget_ipython\u001b[0m\u001b[1;33m(\u001b[0m\u001b[1;33m)\u001b[0m\u001b[1;33m.\u001b[0m\u001b[0msystem\u001b[0m\u001b[1;33m(\u001b[0m\u001b[1;34m'pip install wordcloud'\u001b[0m\u001b[1;33m)\u001b[0m\u001b[1;33m\u001b[0m\u001b[0m\n\u001b[1;32m----> 9\u001b[1;33m \u001b[1;32mfrom\u001b[0m \u001b[0mwordcloud\u001b[0m \u001b[1;32mimport\u001b[0m \u001b[0mWordCloud\u001b[0m\u001b[1;33m\u001b[0m\u001b[0m\n\u001b[0m\u001b[0;32m     10\u001b[0m \u001b[1;33m\u001b[0m\u001b[0m\n\u001b[0;32m     11\u001b[0m \u001b[0mpd\u001b[0m\u001b[1;33m.\u001b[0m\u001b[0mset_option\u001b[0m\u001b[1;33m(\u001b[0m\u001b[1;34m'max_columns'\u001b[0m\u001b[1;33m,\u001b[0m \u001b[1;32mNone\u001b[0m\u001b[1;33m)\u001b[0m\u001b[1;33m\u001b[0m\u001b[0m\n",
      "\u001b[1;31mModuleNotFoundError\u001b[0m: No module named 'wordcloud'"
     ]
    }
   ],
   "source": [
    "import pandas as pd\n",
    "import numpy as np\n",
    "import matplotlib.pyplot as plt\n",
    "import seaborn as sns\n",
    "import re\n",
    "import itertools\n",
    "from nltk.corpus import stopwords\n",
    "!pip install wordcloud\n",
    "from wordcloud import WordCloud\n",
    "\n",
    "pd.set_option('max_columns', None)\n",
    "\n",
    "%matplotlib inline"
   ]
  },
  {
   "cell_type": "code",
   "execution_count": 66,
   "metadata": {
    "collapsed": true
   },
   "outputs": [],
   "source": [
    "df = pd.read_csv('booking_com-travel_sample.csv')"
   ]
  },
  {
   "cell_type": "code",
   "execution_count": 67,
   "metadata": {},
   "outputs": [
    {
     "data": {
      "text/html": [
       "<div>\n",
       "<style>\n",
       "    .dataframe thead tr:only-child th {\n",
       "        text-align: right;\n",
       "    }\n",
       "\n",
       "    .dataframe thead th {\n",
       "        text-align: left;\n",
       "    }\n",
       "\n",
       "    .dataframe tbody tr th {\n",
       "        vertical-align: top;\n",
       "    }\n",
       "</style>\n",
       "<table border=\"1\" class=\"dataframe\">\n",
       "  <thead>\n",
       "    <tr style=\"text-align: right;\">\n",
       "      <th></th>\n",
       "      <th>address</th>\n",
       "      <th>city</th>\n",
       "      <th>country</th>\n",
       "      <th>crawl_date</th>\n",
       "      <th>hotel_brand</th>\n",
       "      <th>hotel_description</th>\n",
       "      <th>hotel_facilities</th>\n",
       "      <th>hotel_star_rating</th>\n",
       "      <th>image_count</th>\n",
       "      <th>latitude</th>\n",
       "      <th>locality</th>\n",
       "      <th>longitude</th>\n",
       "      <th>pageurl</th>\n",
       "      <th>property_id</th>\n",
       "      <th>property_name</th>\n",
       "      <th>property_type</th>\n",
       "      <th>province</th>\n",
       "      <th>qts</th>\n",
       "      <th>room_count</th>\n",
       "      <th>room_type</th>\n",
       "      <th>similar_hotel</th>\n",
       "      <th>site_review_count</th>\n",
       "      <th>site_review_rating</th>\n",
       "      <th>site_stay_review_rating</th>\n",
       "      <th>sitename</th>\n",
       "      <th>special_tag</th>\n",
       "      <th>state</th>\n",
       "      <th>uniq_id</th>\n",
       "      <th>zone</th>\n",
       "    </tr>\n",
       "  </thead>\n",
       "  <tbody>\n",
       "    <tr>\n",
       "      <th>0</th>\n",
       "      <td>KHIRSU, 246147 Pauri, India – Great location -</td>\n",
       "      <td>pauri</td>\n",
       "      <td>India</td>\n",
       "      <td>2016-09-01</td>\n",
       "      <td>NaN</td>\n",
       "      <td>Khirsu By GMVN offers accommodation in Pauri. ...</td>\n",
       "      <td>Bathroom:Toilet paper|Linen|Towels|Bathroom|To...</td>\n",
       "      <td>NaN</td>\n",
       "      <td>3.0</td>\n",
       "      <td>30.123749</td>\n",
       "      <td>NaN</td>\n",
       "      <td>78.793774</td>\n",
       "      <td>http://www.booking.com/hotel/in/khirsu-by-gmvn...</td>\n",
       "      <td>1742658.0</td>\n",
       "      <td>Khirsu By GMVN</td>\n",
       "      <td>204</td>\n",
       "      <td>NaN</td>\n",
       "      <td>2016-09-01 11:52:38 +0000</td>\n",
       "      <td>18.0</td>\n",
       "      <td>Economy Double Room</td>\n",
       "      <td>Hotel Mandakini</td>\n",
       "      <td>NaN</td>\n",
       "      <td>NaN</td>\n",
       "      <td>NaN</td>\n",
       "      <td>http://www.booking.com/</td>\n",
       "      <td>Share</td>\n",
       "      <td>Uttarakhand</td>\n",
       "      <td>a5ea72415f8007fcbe65759830fdd3d9</td>\n",
       "      <td>NaN</td>\n",
       "    </tr>\n",
       "    <tr>\n",
       "      <th>1</th>\n",
       "      <td>Kaathadimattam, Balacola Post, NEAR Siva Tea F...</td>\n",
       "      <td>ooty</td>\n",
       "      <td>India</td>\n",
       "      <td>2016-09-01</td>\n",
       "      <td>NaN</td>\n",
       "      <td>Situated in Ooty in the Tamil Nadu Region, 8 k...</td>\n",
       "      <td>Bathroom:Toilet paper|Linen|Towels|Bidet|Towel...</td>\n",
       "      <td>3 stars</td>\n",
       "      <td>NaN</td>\n",
       "      <td>11.329595</td>\n",
       "      <td>NaN</td>\n",
       "      <td>76.686732</td>\n",
       "      <td>http://www.booking.com/hotel/in/global-village...</td>\n",
       "      <td>1755986.0</td>\n",
       "      <td>Global Village Ooty</td>\n",
       "      <td>212</td>\n",
       "      <td>NaN</td>\n",
       "      <td>2016-09-01 11:52:38 +0000</td>\n",
       "      <td>10.0</td>\n",
       "      <td>British Empire Chalet</td>\n",
       "      <td>Treebo Yantra Leisures|Western Valley Resorts|...</td>\n",
       "      <td>5</td>\n",
       "      <td>7.6</td>\n",
       "      <td>Location:8.5|Staff:8|Cleanliness:7.5|Comfort:7...</td>\n",
       "      <td>http://www.booking.com/</td>\n",
       "      <td>Share</td>\n",
       "      <td>Tamil Nadu</td>\n",
       "      <td>7e0b055417271bbd9dae902f3e231ed4</td>\n",
       "      <td>NaN</td>\n",
       "    </tr>\n",
       "    <tr>\n",
       "      <th>2</th>\n",
       "      <td>PIPALKOTI, 246472 Pīpalkoti, India – Show map</td>\n",
       "      <td>pīpalkoti</td>\n",
       "      <td>India</td>\n",
       "      <td>2016-09-01</td>\n",
       "      <td>NaN</td>\n",
       "      <td>TRH Pipalkoti offers accommodation in Pīpalkot...</td>\n",
       "      <td>Bathroom:Toilet paper|Linen|Towels|Bathroom•Vi...</td>\n",
       "      <td>NaN</td>\n",
       "      <td>4.0</td>\n",
       "      <td>30.429540</td>\n",
       "      <td>NaN</td>\n",
       "      <td>79.428116</td>\n",
       "      <td>http://www.booking.com/hotel/in/trh-pipalkoti....</td>\n",
       "      <td>1741747.0</td>\n",
       "      <td>TRH Pipalkoti</td>\n",
       "      <td>204</td>\n",
       "      <td>NaN</td>\n",
       "      <td>2016-09-01 11:52:38 +0000</td>\n",
       "      <td>28.0</td>\n",
       "      <td>Economy Double Room</td>\n",
       "      <td>TRH Joshimath (New)</td>\n",
       "      <td>NaN</td>\n",
       "      <td>NaN</td>\n",
       "      <td>NaN</td>\n",
       "      <td>http://www.booking.com/</td>\n",
       "      <td>Share</td>\n",
       "      <td>Uttarakhand</td>\n",
       "      <td>72c0af09827bbb620365aa5df523ba1d</td>\n",
       "      <td>NaN</td>\n",
       "    </tr>\n",
       "    <tr>\n",
       "      <th>3</th>\n",
       "      <td>1 KARIYIL HOUSE KUMARAKOM NORTH PO KOTTAYAM, 6...</td>\n",
       "      <td>kumarakom</td>\n",
       "      <td>India</td>\n",
       "      <td>2016-09-01</td>\n",
       "      <td>NaN</td>\n",
       "      <td>Swasti house boat 2 is located in Kumarakom, 3...</td>\n",
       "      <td>Bathroom:Toilet paper|Towels|Bath|Shower•Bedro...</td>\n",
       "      <td>NaN</td>\n",
       "      <td>2.0</td>\n",
       "      <td>9.616057</td>\n",
       "      <td>NaN</td>\n",
       "      <td>76.428269</td>\n",
       "      <td>http://www.booking.com/hotel/in/swasti-house-b...</td>\n",
       "      <td>1747392.0</td>\n",
       "      <td>Swasti house boat 2</td>\n",
       "      <td>204</td>\n",
       "      <td>NaN</td>\n",
       "      <td>2016-09-01 11:52:38 +0000</td>\n",
       "      <td>1.0</td>\n",
       "      <td>Deluxe Room</td>\n",
       "      <td>NaN</td>\n",
       "      <td>NaN</td>\n",
       "      <td>NaN</td>\n",
       "      <td>NaN</td>\n",
       "      <td>http://www.booking.com/</td>\n",
       "      <td>Share</td>\n",
       "      <td>Kerala</td>\n",
       "      <td>eb6fd33d99aa4a8088caa8f3ecb08275</td>\n",
       "      <td>NaN</td>\n",
       "    </tr>\n",
       "    <tr>\n",
       "      <th>4</th>\n",
       "      <td>Kavanattinkara, 686563 Kumarakom, India – Show...</td>\n",
       "      <td>kumarakom</td>\n",
       "      <td>India</td>\n",
       "      <td>2016-09-01</td>\n",
       "      <td>NaN</td>\n",
       "      <td>Amrutham Houseboat 2 is set in Kumarakom, 5 km...</td>\n",
       "      <td>Bathroom:Toilet paper|Linen|Towels|Towels/Shee...</td>\n",
       "      <td>NaN</td>\n",
       "      <td>NaN</td>\n",
       "      <td>9.632854</td>\n",
       "      <td>NaN</td>\n",
       "      <td>76.423570</td>\n",
       "      <td>http://www.booking.com/hotel/in/amrutham-house...</td>\n",
       "      <td>1744962.0</td>\n",
       "      <td>Amrutham Houseboat 2</td>\n",
       "      <td>215</td>\n",
       "      <td>NaN</td>\n",
       "      <td>2016-09-01 11:52:38 +0000</td>\n",
       "      <td>2.0</td>\n",
       "      <td>Mobile Home</td>\n",
       "      <td>Mandala Beach House &amp; Cottages</td>\n",
       "      <td>NaN</td>\n",
       "      <td>NaN</td>\n",
       "      <td>NaN</td>\n",
       "      <td>http://www.booking.com/</td>\n",
       "      <td>Share</td>\n",
       "      <td>Kerala</td>\n",
       "      <td>0814d9af7ad808863c04db8f30437c57</td>\n",
       "      <td>NaN</td>\n",
       "    </tr>\n",
       "  </tbody>\n",
       "</table>\n",
       "</div>"
      ],
      "text/plain": [
       "                                             address       city country  \\\n",
       "0     KHIRSU, 246147 Pauri, India – Great location -      pauri   India   \n",
       "1  Kaathadimattam, Balacola Post, NEAR Siva Tea F...       ooty   India   \n",
       "2      PIPALKOTI, 246472 Pīpalkoti, India – Show map  pīpalkoti   India   \n",
       "3  1 KARIYIL HOUSE KUMARAKOM NORTH PO KOTTAYAM, 6...  kumarakom   India   \n",
       "4  Kavanattinkara, 686563 Kumarakom, India – Show...  kumarakom   India   \n",
       "\n",
       "   crawl_date hotel_brand                                  hotel_description  \\\n",
       "0  2016-09-01         NaN  Khirsu By GMVN offers accommodation in Pauri. ...   \n",
       "1  2016-09-01         NaN  Situated in Ooty in the Tamil Nadu Region, 8 k...   \n",
       "2  2016-09-01         NaN  TRH Pipalkoti offers accommodation in Pīpalkot...   \n",
       "3  2016-09-01         NaN  Swasti house boat 2 is located in Kumarakom, 3...   \n",
       "4  2016-09-01         NaN  Amrutham Houseboat 2 is set in Kumarakom, 5 km...   \n",
       "\n",
       "                                    hotel_facilities hotel_star_rating  \\\n",
       "0  Bathroom:Toilet paper|Linen|Towels|Bathroom|To...               NaN   \n",
       "1  Bathroom:Toilet paper|Linen|Towels|Bidet|Towel...           3 stars   \n",
       "2  Bathroom:Toilet paper|Linen|Towels|Bathroom•Vi...               NaN   \n",
       "3  Bathroom:Toilet paper|Towels|Bath|Shower•Bedro...               NaN   \n",
       "4  Bathroom:Toilet paper|Linen|Towels|Towels/Shee...               NaN   \n",
       "\n",
       "   image_count   latitude locality  longitude  \\\n",
       "0          3.0  30.123749      NaN  78.793774   \n",
       "1          NaN  11.329595      NaN  76.686732   \n",
       "2          4.0  30.429540      NaN  79.428116   \n",
       "3          2.0   9.616057      NaN  76.428269   \n",
       "4          NaN   9.632854      NaN  76.423570   \n",
       "\n",
       "                                             pageurl  property_id  \\\n",
       "0  http://www.booking.com/hotel/in/khirsu-by-gmvn...    1742658.0   \n",
       "1  http://www.booking.com/hotel/in/global-village...    1755986.0   \n",
       "2  http://www.booking.com/hotel/in/trh-pipalkoti....    1741747.0   \n",
       "3  http://www.booking.com/hotel/in/swasti-house-b...    1747392.0   \n",
       "4  http://www.booking.com/hotel/in/amrutham-house...    1744962.0   \n",
       "\n",
       "          property_name property_type province                        qts  \\\n",
       "0        Khirsu By GMVN           204      NaN  2016-09-01 11:52:38 +0000   \n",
       "1   Global Village Ooty           212      NaN  2016-09-01 11:52:38 +0000   \n",
       "2         TRH Pipalkoti           204      NaN  2016-09-01 11:52:38 +0000   \n",
       "3   Swasti house boat 2           204      NaN  2016-09-01 11:52:38 +0000   \n",
       "4  Amrutham Houseboat 2           215      NaN  2016-09-01 11:52:38 +0000   \n",
       "\n",
       "   room_count              room_type  \\\n",
       "0        18.0    Economy Double Room   \n",
       "1        10.0  British Empire Chalet   \n",
       "2        28.0    Economy Double Room   \n",
       "3         1.0            Deluxe Room   \n",
       "4         2.0            Mobile Home   \n",
       "\n",
       "                                       similar_hotel site_review_count  \\\n",
       "0                                    Hotel Mandakini               NaN   \n",
       "1  Treebo Yantra Leisures|Western Valley Resorts|...                 5   \n",
       "2                                TRH Joshimath (New)               NaN   \n",
       "3                                                NaN               NaN   \n",
       "4                     Mandala Beach House & Cottages               NaN   \n",
       "\n",
       "   site_review_rating                            site_stay_review_rating  \\\n",
       "0                 NaN                                                NaN   \n",
       "1                 7.6  Location:8.5|Staff:8|Cleanliness:7.5|Comfort:7...   \n",
       "2                 NaN                                                NaN   \n",
       "3                 NaN                                                NaN   \n",
       "4                 NaN                                                NaN   \n",
       "\n",
       "                  sitename special_tag        state  \\\n",
       "0  http://www.booking.com/       Share  Uttarakhand   \n",
       "1  http://www.booking.com/       Share   Tamil Nadu   \n",
       "2  http://www.booking.com/       Share  Uttarakhand   \n",
       "3  http://www.booking.com/       Share       Kerala   \n",
       "4  http://www.booking.com/       Share       Kerala   \n",
       "\n",
       "                            uniq_id zone  \n",
       "0  a5ea72415f8007fcbe65759830fdd3d9  NaN  \n",
       "1  7e0b055417271bbd9dae902f3e231ed4  NaN  \n",
       "2  72c0af09827bbb620365aa5df523ba1d  NaN  \n",
       "3  eb6fd33d99aa4a8088caa8f3ecb08275  NaN  \n",
       "4  0814d9af7ad808863c04db8f30437c57  NaN  "
      ]
     },
     "execution_count": 67,
     "metadata": {},
     "output_type": "execute_result"
    }
   ],
   "source": [
    "df.head()"
   ]
  },
  {
   "cell_type": "code",
   "execution_count": 68,
   "metadata": {},
   "outputs": [
    {
     "name": "stdout",
     "output_type": "stream",
     "text": [
      "<class 'pandas.core.frame.DataFrame'>\n",
      "RangeIndex: 6000 entries, 0 to 5999\n",
      "Data columns (total 29 columns):\n",
      "address                    5410 non-null object\n",
      "city                       5982 non-null object\n",
      "country                    6000 non-null object\n",
      "crawl_date                 6000 non-null object\n",
      "hotel_brand                1312 non-null object\n",
      "hotel_description          5410 non-null object\n",
      "hotel_facilities           5410 non-null object\n",
      "hotel_star_rating          3075 non-null object\n",
      "image_count                3537 non-null float64\n",
      "latitude                   6000 non-null float64\n",
      "locality                   529 non-null object\n",
      "longitude                  6000 non-null float64\n",
      "pageurl                    6000 non-null object\n",
      "property_id                5410 non-null float64\n",
      "property_name              5410 non-null object\n",
      "property_type              6000 non-null object\n",
      "province                   529 non-null object\n",
      "qts                        6000 non-null object\n",
      "room_count                 5410 non-null float64\n",
      "room_type                  5995 non-null object\n",
      "similar_hotel              4245 non-null object\n",
      "site_review_count          4202 non-null object\n",
      "site_review_rating         4792 non-null float64\n",
      "site_stay_review_rating    2163 non-null object\n",
      "sitename                   6000 non-null object\n",
      "special_tag                5410 non-null object\n",
      "state                      5951 non-null object\n",
      "uniq_id                    6000 non-null object\n",
      "zone                       529 non-null object\n",
      "dtypes: float64(6), object(23)\n",
      "memory usage: 1.3+ MB\n"
     ]
    }
   ],
   "source": [
    "df.info()"
   ]
  },
  {
   "cell_type": "code",
   "execution_count": 70,
   "metadata": {},
   "outputs": [
    {
     "data": {
      "text/plain": [
       "544"
      ]
     },
     "execution_count": 70,
     "metadata": {},
     "output_type": "execute_result"
    }
   ],
   "source": [
    "len(df['city'].unique())"
   ]
  },
  {
   "cell_type": "code",
   "execution_count": 71,
   "metadata": {},
   "outputs": [
    {
     "data": {
      "text/plain": [
       "new delhi    309\n",
       "bangalore    193\n",
       "mumbai       172\n",
       "jaipur       163\n",
       "chennai      152\n",
       "Name: city, dtype: int64"
      ]
     },
     "execution_count": 71,
     "metadata": {},
     "output_type": "execute_result"
    }
   ],
   "source": [
    "df['city'].value_counts().head()"
   ]
  },
  {
   "cell_type": "code",
   "execution_count": 72,
   "metadata": {},
   "outputs": [
    {
     "data": {
      "text/plain": [
       "3-star hotel    1148\n",
       "2-star hotel     553\n",
       "4-star hotel     267\n",
       "3 stars          260\n",
       "5-star hotel     219\n",
       "4 stars          160\n",
       "2 stars          152\n",
       "1-star hotel     131\n",
       "1 stars          100\n",
       "5 stars           85\n",
       "Name: hotel_star_rating, dtype: int64"
      ]
     },
     "execution_count": 72,
     "metadata": {},
     "output_type": "execute_result"
    }
   ],
   "source": [
    "df['hotel_star_rating'].value_counts()"
   ]
  },
  {
   "cell_type": "code",
   "execution_count": 73,
   "metadata": {
    "collapsed": true
   },
   "outputs": [],
   "source": [
    "def star_cleaning(value):\n",
    "    try:\n",
    "        value = list(value)[0]\n",
    "        if int(value) == 3:\n",
    "            return (3.0)\n",
    "\n",
    "        elif int(value) == 2:\n",
    "            return (2.0)\n",
    "\n",
    "        elif int(value) == 1:\n",
    "            return (1.0)\n",
    "\n",
    "        elif int(value) == 4:\n",
    "            return (4.0)\n",
    "        else:\n",
    "            return (5.0)\n",
    "        \n",
    "    except:\n",
    "        pass"
   ]
  },
  {
   "cell_type": "code",
   "execution_count": 74,
   "metadata": {},
   "outputs": [],
   "source": [
    "df['hotel_star_rating'] = df['hotel_star_rating'].apply(star_cleaning)"
   ]
  },
  {
   "cell_type": "code",
   "execution_count": 79,
   "metadata": {},
   "outputs": [
    {
     "data": {
      "text/html": [
       "<div>\n",
       "<style>\n",
       "    .dataframe thead tr:only-child th {\n",
       "        text-align: right;\n",
       "    }\n",
       "\n",
       "    .dataframe thead th {\n",
       "        text-align: left;\n",
       "    }\n",
       "\n",
       "    .dataframe tbody tr th {\n",
       "        vertical-align: top;\n",
       "    }\n",
       "</style>\n",
       "<table border=\"1\" class=\"dataframe\">\n",
       "  <thead>\n",
       "    <tr style=\"text-align: right;\">\n",
       "      <th></th>\n",
       "      <th>address</th>\n",
       "      <th>city</th>\n",
       "      <th>country</th>\n",
       "      <th>crawl_date</th>\n",
       "      <th>hotel_brand</th>\n",
       "      <th>hotel_description</th>\n",
       "      <th>hotel_facilities</th>\n",
       "      <th>hotel_star_rating</th>\n",
       "      <th>image_count</th>\n",
       "      <th>latitude</th>\n",
       "      <th>locality</th>\n",
       "      <th>longitude</th>\n",
       "      <th>pageurl</th>\n",
       "      <th>property_id</th>\n",
       "      <th>property_name</th>\n",
       "      <th>property_type</th>\n",
       "      <th>province</th>\n",
       "      <th>qts</th>\n",
       "      <th>room_count</th>\n",
       "      <th>room_type</th>\n",
       "      <th>similar_hotel</th>\n",
       "      <th>site_review_count</th>\n",
       "      <th>site_review_rating</th>\n",
       "      <th>site_stay_review_rating</th>\n",
       "      <th>sitename</th>\n",
       "      <th>special_tag</th>\n",
       "      <th>state</th>\n",
       "      <th>uniq_id</th>\n",
       "      <th>zone</th>\n",
       "    </tr>\n",
       "  </thead>\n",
       "  <tbody>\n",
       "    <tr>\n",
       "      <th>0</th>\n",
       "      <td>KHIRSU, 246147 Pauri, India – Great location -</td>\n",
       "      <td>pauri</td>\n",
       "      <td>India</td>\n",
       "      <td>2016-09-01</td>\n",
       "      <td>NaN</td>\n",
       "      <td>Khirsu By GMVN offers accommodation in Pauri. ...</td>\n",
       "      <td>Bathroom:Toilet paper|Linen|Towels|Bathroom|To...</td>\n",
       "      <td>NaN</td>\n",
       "      <td>3.0</td>\n",
       "      <td>30.123749</td>\n",
       "      <td>NaN</td>\n",
       "      <td>78.793774</td>\n",
       "      <td>http://www.booking.com/hotel/in/khirsu-by-gmvn...</td>\n",
       "      <td>1742658.0</td>\n",
       "      <td>Khirsu By GMVN</td>\n",
       "      <td>204</td>\n",
       "      <td>NaN</td>\n",
       "      <td>2016-09-01 11:52:38 +0000</td>\n",
       "      <td>18.0</td>\n",
       "      <td>Economy Double Room</td>\n",
       "      <td>Hotel Mandakini</td>\n",
       "      <td>NaN</td>\n",
       "      <td>NaN</td>\n",
       "      <td>NaN</td>\n",
       "      <td>http://www.booking.com/</td>\n",
       "      <td>Share</td>\n",
       "      <td>Uttarakhand</td>\n",
       "      <td>a5ea72415f8007fcbe65759830fdd3d9</td>\n",
       "      <td>NaN</td>\n",
       "    </tr>\n",
       "    <tr>\n",
       "      <th>1</th>\n",
       "      <td>Kaathadimattam, Balacola Post, NEAR Siva Tea F...</td>\n",
       "      <td>ooty</td>\n",
       "      <td>India</td>\n",
       "      <td>2016-09-01</td>\n",
       "      <td>NaN</td>\n",
       "      <td>Situated in Ooty in the Tamil Nadu Region, 8 k...</td>\n",
       "      <td>Bathroom:Toilet paper|Linen|Towels|Bidet|Towel...</td>\n",
       "      <td>3.0</td>\n",
       "      <td>NaN</td>\n",
       "      <td>11.329595</td>\n",
       "      <td>NaN</td>\n",
       "      <td>76.686732</td>\n",
       "      <td>http://www.booking.com/hotel/in/global-village...</td>\n",
       "      <td>1755986.0</td>\n",
       "      <td>Global Village Ooty</td>\n",
       "      <td>212</td>\n",
       "      <td>NaN</td>\n",
       "      <td>2016-09-01 11:52:38 +0000</td>\n",
       "      <td>10.0</td>\n",
       "      <td>British Empire Chalet</td>\n",
       "      <td>Treebo Yantra Leisures|Western Valley Resorts|...</td>\n",
       "      <td>5</td>\n",
       "      <td>7.6</td>\n",
       "      <td>Location:8.5|Staff:8|Cleanliness:7.5|Comfort:7...</td>\n",
       "      <td>http://www.booking.com/</td>\n",
       "      <td>Share</td>\n",
       "      <td>Tamil Nadu</td>\n",
       "      <td>7e0b055417271bbd9dae902f3e231ed4</td>\n",
       "      <td>NaN</td>\n",
       "    </tr>\n",
       "    <tr>\n",
       "      <th>2</th>\n",
       "      <td>PIPALKOTI, 246472 Pīpalkoti, India – Show map</td>\n",
       "      <td>pīpalkoti</td>\n",
       "      <td>India</td>\n",
       "      <td>2016-09-01</td>\n",
       "      <td>NaN</td>\n",
       "      <td>TRH Pipalkoti offers accommodation in Pīpalkot...</td>\n",
       "      <td>Bathroom:Toilet paper|Linen|Towels|Bathroom•Vi...</td>\n",
       "      <td>NaN</td>\n",
       "      <td>4.0</td>\n",
       "      <td>30.429540</td>\n",
       "      <td>NaN</td>\n",
       "      <td>79.428116</td>\n",
       "      <td>http://www.booking.com/hotel/in/trh-pipalkoti....</td>\n",
       "      <td>1741747.0</td>\n",
       "      <td>TRH Pipalkoti</td>\n",
       "      <td>204</td>\n",
       "      <td>NaN</td>\n",
       "      <td>2016-09-01 11:52:38 +0000</td>\n",
       "      <td>28.0</td>\n",
       "      <td>Economy Double Room</td>\n",
       "      <td>TRH Joshimath (New)</td>\n",
       "      <td>NaN</td>\n",
       "      <td>NaN</td>\n",
       "      <td>NaN</td>\n",
       "      <td>http://www.booking.com/</td>\n",
       "      <td>Share</td>\n",
       "      <td>Uttarakhand</td>\n",
       "      <td>72c0af09827bbb620365aa5df523ba1d</td>\n",
       "      <td>NaN</td>\n",
       "    </tr>\n",
       "    <tr>\n",
       "      <th>3</th>\n",
       "      <td>1 KARIYIL HOUSE KUMARAKOM NORTH PO KOTTAYAM, 6...</td>\n",
       "      <td>kumarakom</td>\n",
       "      <td>India</td>\n",
       "      <td>2016-09-01</td>\n",
       "      <td>NaN</td>\n",
       "      <td>Swasti house boat 2 is located in Kumarakom, 3...</td>\n",
       "      <td>Bathroom:Toilet paper|Towels|Bath|Shower•Bedro...</td>\n",
       "      <td>NaN</td>\n",
       "      <td>2.0</td>\n",
       "      <td>9.616057</td>\n",
       "      <td>NaN</td>\n",
       "      <td>76.428269</td>\n",
       "      <td>http://www.booking.com/hotel/in/swasti-house-b...</td>\n",
       "      <td>1747392.0</td>\n",
       "      <td>Swasti house boat 2</td>\n",
       "      <td>204</td>\n",
       "      <td>NaN</td>\n",
       "      <td>2016-09-01 11:52:38 +0000</td>\n",
       "      <td>1.0</td>\n",
       "      <td>Deluxe Room</td>\n",
       "      <td>NaN</td>\n",
       "      <td>NaN</td>\n",
       "      <td>NaN</td>\n",
       "      <td>NaN</td>\n",
       "      <td>http://www.booking.com/</td>\n",
       "      <td>Share</td>\n",
       "      <td>Kerala</td>\n",
       "      <td>eb6fd33d99aa4a8088caa8f3ecb08275</td>\n",
       "      <td>NaN</td>\n",
       "    </tr>\n",
       "    <tr>\n",
       "      <th>4</th>\n",
       "      <td>Kavanattinkara, 686563 Kumarakom, India – Show...</td>\n",
       "      <td>kumarakom</td>\n",
       "      <td>India</td>\n",
       "      <td>2016-09-01</td>\n",
       "      <td>NaN</td>\n",
       "      <td>Amrutham Houseboat 2 is set in Kumarakom, 5 km...</td>\n",
       "      <td>Bathroom:Toilet paper|Linen|Towels|Towels/Shee...</td>\n",
       "      <td>NaN</td>\n",
       "      <td>NaN</td>\n",
       "      <td>9.632854</td>\n",
       "      <td>NaN</td>\n",
       "      <td>76.423570</td>\n",
       "      <td>http://www.booking.com/hotel/in/amrutham-house...</td>\n",
       "      <td>1744962.0</td>\n",
       "      <td>Amrutham Houseboat 2</td>\n",
       "      <td>215</td>\n",
       "      <td>NaN</td>\n",
       "      <td>2016-09-01 11:52:38 +0000</td>\n",
       "      <td>2.0</td>\n",
       "      <td>Mobile Home</td>\n",
       "      <td>Mandala Beach House &amp; Cottages</td>\n",
       "      <td>NaN</td>\n",
       "      <td>NaN</td>\n",
       "      <td>NaN</td>\n",
       "      <td>http://www.booking.com/</td>\n",
       "      <td>Share</td>\n",
       "      <td>Kerala</td>\n",
       "      <td>0814d9af7ad808863c04db8f30437c57</td>\n",
       "      <td>NaN</td>\n",
       "    </tr>\n",
       "  </tbody>\n",
       "</table>\n",
       "</div>"
      ],
      "text/plain": [
       "                                             address       city country  \\\n",
       "0     KHIRSU, 246147 Pauri, India – Great location -      pauri   India   \n",
       "1  Kaathadimattam, Balacola Post, NEAR Siva Tea F...       ooty   India   \n",
       "2      PIPALKOTI, 246472 Pīpalkoti, India – Show map  pīpalkoti   India   \n",
       "3  1 KARIYIL HOUSE KUMARAKOM NORTH PO KOTTAYAM, 6...  kumarakom   India   \n",
       "4  Kavanattinkara, 686563 Kumarakom, India – Show...  kumarakom   India   \n",
       "\n",
       "   crawl_date hotel_brand                                  hotel_description  \\\n",
       "0  2016-09-01         NaN  Khirsu By GMVN offers accommodation in Pauri. ...   \n",
       "1  2016-09-01         NaN  Situated in Ooty in the Tamil Nadu Region, 8 k...   \n",
       "2  2016-09-01         NaN  TRH Pipalkoti offers accommodation in Pīpalkot...   \n",
       "3  2016-09-01         NaN  Swasti house boat 2 is located in Kumarakom, 3...   \n",
       "4  2016-09-01         NaN  Amrutham Houseboat 2 is set in Kumarakom, 5 km...   \n",
       "\n",
       "                                    hotel_facilities  hotel_star_rating  \\\n",
       "0  Bathroom:Toilet paper|Linen|Towels|Bathroom|To...                NaN   \n",
       "1  Bathroom:Toilet paper|Linen|Towels|Bidet|Towel...                3.0   \n",
       "2  Bathroom:Toilet paper|Linen|Towels|Bathroom•Vi...                NaN   \n",
       "3  Bathroom:Toilet paper|Towels|Bath|Shower•Bedro...                NaN   \n",
       "4  Bathroom:Toilet paper|Linen|Towels|Towels/Shee...                NaN   \n",
       "\n",
       "   image_count   latitude locality  longitude  \\\n",
       "0          3.0  30.123749      NaN  78.793774   \n",
       "1          NaN  11.329595      NaN  76.686732   \n",
       "2          4.0  30.429540      NaN  79.428116   \n",
       "3          2.0   9.616057      NaN  76.428269   \n",
       "4          NaN   9.632854      NaN  76.423570   \n",
       "\n",
       "                                             pageurl  property_id  \\\n",
       "0  http://www.booking.com/hotel/in/khirsu-by-gmvn...    1742658.0   \n",
       "1  http://www.booking.com/hotel/in/global-village...    1755986.0   \n",
       "2  http://www.booking.com/hotel/in/trh-pipalkoti....    1741747.0   \n",
       "3  http://www.booking.com/hotel/in/swasti-house-b...    1747392.0   \n",
       "4  http://www.booking.com/hotel/in/amrutham-house...    1744962.0   \n",
       "\n",
       "          property_name property_type province                        qts  \\\n",
       "0        Khirsu By GMVN           204      NaN  2016-09-01 11:52:38 +0000   \n",
       "1   Global Village Ooty           212      NaN  2016-09-01 11:52:38 +0000   \n",
       "2         TRH Pipalkoti           204      NaN  2016-09-01 11:52:38 +0000   \n",
       "3   Swasti house boat 2           204      NaN  2016-09-01 11:52:38 +0000   \n",
       "4  Amrutham Houseboat 2           215      NaN  2016-09-01 11:52:38 +0000   \n",
       "\n",
       "   room_count              room_type  \\\n",
       "0        18.0    Economy Double Room   \n",
       "1        10.0  British Empire Chalet   \n",
       "2        28.0    Economy Double Room   \n",
       "3         1.0            Deluxe Room   \n",
       "4         2.0            Mobile Home   \n",
       "\n",
       "                                       similar_hotel site_review_count  \\\n",
       "0                                    Hotel Mandakini               NaN   \n",
       "1  Treebo Yantra Leisures|Western Valley Resorts|...                 5   \n",
       "2                                TRH Joshimath (New)               NaN   \n",
       "3                                                NaN               NaN   \n",
       "4                     Mandala Beach House & Cottages               NaN   \n",
       "\n",
       "   site_review_rating                            site_stay_review_rating  \\\n",
       "0                 NaN                                                NaN   \n",
       "1                 7.6  Location:8.5|Staff:8|Cleanliness:7.5|Comfort:7...   \n",
       "2                 NaN                                                NaN   \n",
       "3                 NaN                                                NaN   \n",
       "4                 NaN                                                NaN   \n",
       "\n",
       "                  sitename special_tag        state  \\\n",
       "0  http://www.booking.com/       Share  Uttarakhand   \n",
       "1  http://www.booking.com/       Share   Tamil Nadu   \n",
       "2  http://www.booking.com/       Share  Uttarakhand   \n",
       "3  http://www.booking.com/       Share       Kerala   \n",
       "4  http://www.booking.com/       Share       Kerala   \n",
       "\n",
       "                            uniq_id zone  \n",
       "0  a5ea72415f8007fcbe65759830fdd3d9  NaN  \n",
       "1  7e0b055417271bbd9dae902f3e231ed4  NaN  \n",
       "2  72c0af09827bbb620365aa5df523ba1d  NaN  \n",
       "3  eb6fd33d99aa4a8088caa8f3ecb08275  NaN  \n",
       "4  0814d9af7ad808863c04db8f30437c57  NaN  "
      ]
     },
     "execution_count": 79,
     "metadata": {},
     "output_type": "execute_result"
    }
   ],
   "source": [
    "df.head()"
   ]
  },
  {
   "cell_type": "code",
   "execution_count": 80,
   "metadata": {},
   "outputs": [
    {
     "data": {
      "text/plain": [
       "count    5410.000000\n",
       "mean       25.373383\n",
       "std        31.666920\n",
       "min         1.000000\n",
       "25%        10.000000\n",
       "50%        20.000000\n",
       "75%        30.000000\n",
       "max       523.000000\n",
       "Name: room_count, dtype: float64"
      ]
     },
     "execution_count": 80,
     "metadata": {},
     "output_type": "execute_result"
    }
   ],
   "source": [
    "df['room_count'].describe()"
   ]
  },
  {
   "cell_type": "code",
   "execution_count": 90,
   "metadata": {},
   "outputs": [
    {
     "data": {
      "text/plain": [
       "<matplotlib.axes._subplots.AxesSubplot at 0x23fe004a3c8>"
      ]
     },
     "execution_count": 90,
     "metadata": {},
     "output_type": "execute_result"
    },
    {
     "data": {
      "image/png": "[encoded data removed]",
      "text/plain": [
       "<matplotlib.figure.Figure at 0x23fe0029780>"
      ]
     },
     "metadata": {},
     "output_type": "display_data"
    }
   ],
   "source": [
    "room_count = df['room_count']\n",
    "room_count.dropna(inplace = True)\n",
    "plt.figure(figsize=(15,10))\n",
    "sns.distplot(df['room_count'], color='g')"
   ]
  },
  {
   "cell_type": "code",
   "execution_count": 100,
   "metadata": {},
   "outputs": [
    {
     "data": {
      "text/plain": [
       "<matplotlib.axes._subplots.AxesSubplot at 0x23fe2cfa048>"
      ]
     },
     "execution_count": 100,
     "metadata": {},
     "output_type": "execute_result"
    },
    {
     "data": {
      "image/png": "[encoded data removed]",
      "text/plain": [
       "<matplotlib.figure.Figure at 0x23fe2cfa080>"
      ]
     },
     "metadata": {},
     "output_type": "display_data"
    }
   ],
   "source": [
    "plt.figure(figsize=(15, 5))\n",
    "sns.boxplot(df['room_count'])"
   ]
  },
  {
   "cell_type": "code",
   "execution_count": 101,
   "metadata": {},
   "outputs": [
    {
     "data": {
      "text/plain": [
       "<matplotlib.axes._subplots.AxesSubplot at 0x23fe0826c88>"
      ]
     },
     "execution_count": 101,
     "metadata": {},
     "output_type": "execute_result"
    },
    {
     "data": {
      "image/png": "[encoded data removed]",
      "text/plain": [
       "<matplotlib.figure.Figure at 0x23fe2d77710>"
      ]
     },
     "metadata": {},
     "output_type": "display_data"
    }
   ],
   "source": [
    "room_count = df['hotel_star_rating']\n",
    "room_count.dropna(inplace = True)\n",
    "plt.figure(figsize=(15, 5))\n",
    "sns.countplot(df['hotel_star_rating'])"
   ]
  },
  {
   "cell_type": "code",
   "execution_count": 106,
   "metadata": {},
   "outputs": [
    {
     "data": {
      "text/plain": [
       "['Bathroom:Toilet paper|Linen|Towels|Bathroom|Toilet',\n",
       " 'Bedroom:Wardrobe/Closet',\n",
       " 'View:Mountain view|View',\n",
       " 'Room Amenities:Clothes rack',\n",
       " 'Pets:Pets are not allowed.',\n",
       " 'Living Area:Seating Area|Desk',\n",
       " 'Media & Technology:Satellite Channels|TV',\n",
       " 'Food & Drink:Breakfast in the room',\n",
       " 'Internet:Free!\\nWiFi is available in public areas and is free of charge.',\n",
       " 'Parking:Free!\\nFree public parking is possible on site (reservation is not needed).',\n",
       " 'Services:Daily maid service|Shuttle service (surcharge)|Wake-up service|Car hire|Room service',\n",
       " 'General:Designated smoking area|Non-smoking throughout|Tile/Marble floor|Heating|Fan|Non-smoking rooms|Newspapers']"
      ]
     },
     "execution_count": 106,
     "metadata": {},
     "output_type": "execute_result"
    }
   ],
   "source": [
    "df['hotel_facilities'][0].split('•')"
   ]
  },
  {
   "cell_type": "code",
   "execution_count": 112,
   "metadata": {},
   "outputs": [
    {
     "data": {
      "text/plain": [
       "['Bedroom:Wardrobe/Closet']"
      ]
     },
     "execution_count": 112,
     "metadata": {},
     "output_type": "execute_result"
    }
   ],
   "source": [
    "df['hotel_facilities'][0].split('•')[1].split('|')"
   ]
  },
  {
   "cell_type": "code",
   "execution_count": 131,
   "metadata": {},
   "outputs": [
    {
     "data": {
      "text/plain": [
       "'Bathroom Toilet paper Linen Towels Bathroom Toilet Bedroom Wardrobe Closet View Mountain view View Room Amenities Clothes rack Pets Pets are not allowed  Living Area Seating Area Desk Media   Technology Satellite Channels TV Food   Drink Breakfast in the room Internet Free WiFi is available in public areas and is free of charge  Parking Free Free public parking is possible on site  reservation is not needed   Services Daily maid service Shuttle service  surcharge  Wake up service Car hire Room service General Designated smoking area Non smoking throughout Tile Marble floor Heating Fan Non smoking rooms Newspapers'"
      ]
     },
     "execution_count": 131,
     "metadata": {},
     "output_type": "execute_result"
    }
   ],
   "source": [
    "' '.join(list(itertools.chain.from_iterable([re.sub(r'[^\\w\\s]',' ',x.replace(':', ' ').strip()).split('|') for x in df['hotel_facilities'][0].split('•')]))).replace('\\n','')"
   ]
  },
  {
   "cell_type": "code",
   "execution_count": 179,
   "metadata": {},
   "outputs": [
    {
     "data": {
      "text/plain": [
       "'parking free free private parking is possible on site  reservation is not needed   internet free wifi is available in all areas and is free of charge  kitchen dining table cleaning products stovetop oven refrigerator bedroom wardrobe closet bathroom towels free toiletries toilet paper linen shared toilet bathroom toilet shared bathroom living area dining area seating area media   technology satellite channels tv room amenities private entrance interconnected room s  available pets pets are not allowed  accessibility upper floors accessible by stairs only outdoors balcony terrace food   drink grocery deliveries breakfast in the room activities hiking fishing building characteristics private flat in building transport airport shuttle  surcharge  shuttle service  surcharge  car hire bicycle rental outdoor   view city view mountain view view entertainment and family services baby safety gates miscellaneous family rooms languages spoken'"
      ]
     },
     "execution_count": 179,
     "metadata": {},
     "output_type": "execute_result"
    }
   ],
   "source": [
    "' '.join(list(itertools.chain.from_iterable([re.sub(r'[^\\w\\s]',' ',x.replace(':', ' ').lower().strip()).split('|') for x in df['hotel_facilities'][10].split('•')]))).replace('\\n','')"
   ]
  },
  {
   "cell_type": "code",
   "execution_count": 182,
   "metadata": {},
   "outputs": [],
   "source": [
    "df['hotel_facilities_wc'] = df['hotel_facilities'].apply(one_liner)"
   ]
  },
  {
   "cell_type": "code",
   "execution_count": 181,
   "metadata": {
    "collapsed": true
   },
   "outputs": [],
   "source": [
    "def one_liner(val):\n",
    "    try:\n",
    "        return(' '.join(list(itertools.chain.from_iterable([re.sub(r'[^\\w\\s]',' ',x.replace(':', ' ').lower().strip()).split('|') for x in val.split('•')]))).replace('\\n',''))\n",
    "    except:\n",
    "        pass\n",
    "    "
   ]
  },
  {
   "cell_type": "code",
   "execution_count": null,
   "metadata": {},
   "outputs": [],
   "source": []
  },
  {
   "cell_type": "code",
   "execution_count": null,
   "metadata": {
    "collapsed": true
   },
   "outputs": [],
   "source": []
  }
 ],
 "metadata": {
  "kernelspec": {
   "display_name": "Python 3",
   "language": "python",
   "name": "python3"
  },
  "language_info": {
   "codemirror_mode": {
    "name": "ipython",
    "version": 3
   },
   "file_extension": ".py",
   "mimetype": "text/x-python",
   "name": "python",
   "nbconvert_exporter": "python",
   "pygments_lexer": "ipython3",
   "version": "3.6.2"
  }
 },
 "nbformat": 4,
 "nbformat_minor": 2
}
